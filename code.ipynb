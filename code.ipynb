{
 "cells": [
  {
   "cell_type": "code",
   "execution_count": 1,
   "metadata": {},
   "outputs": [
    {
     "name": "stdout",
     "output_type": "stream",
     "text": [
      "Testando il push to GitHub\n",
      "Il git System non e' cosi' intuitivo\n"
     ]
    }
   ],
   "source": [
    "print(\"Testando il push to GitHub\")\n",
    "print(\"Il git System non e' cosi' intuitivo\")\n"
   ]
  }
 ],
 "metadata": {
  "interpreter": {
   "hash": "d09cf15b28b5d534878036d8e378301beb5a99620067cb67a90e6671c09bd7fe"
  },
  "kernelspec": {
   "display_name": "Python 3.10.3 64-bit",
   "language": "python",
   "name": "python3"
  },
  "language_info": {
   "codemirror_mode": {
    "name": "ipython",
    "version": 3
   },
   "file_extension": ".py",
   "mimetype": "text/x-python",
   "name": "python",
   "nbconvert_exporter": "python",
   "pygments_lexer": "ipython3",
   "version": "3.10.3"
  },
  "orig_nbformat": 4
 },
 "nbformat": 4,
 "nbformat_minor": 2
}
